{
 "cells": [
  {
   "cell_type": "markdown",
   "metadata": {},
   "source": [
    "# Simulation"
   ]
  },
  {
   "cell_type": "code",
   "execution_count": 304,
   "metadata": {},
   "outputs": [
    {
     "data": {
      "text/plain": [
       "{61: 0.00787,\n",
       " 62: 0.01045,\n",
       " 63: 0.01407,\n",
       " 64: 0.01757,\n",
       " 65: 0.02328,\n",
       " 66: 0.02883,\n",
       " 67: 0.03355,\n",
       " 68: 0.03943,\n",
       " 69: 0.04599,\n",
       " 70: 0.0491,\n",
       " 71: 0.0556,\n",
       " 72: 0.05747,\n",
       " 73: 0.06237,\n",
       " 74: 0.06141,\n",
       " 75: 0.06062,\n",
       " 76: 0.05964,\n",
       " 77: 0.05597,\n",
       " 78: 0.05209,\n",
       " 79: 0.04778,\n",
       " 80: 0.04201,\n",
       " 81: 0.03684,\n",
       " 82: 0.03117,\n",
       " 83: 0.02602,\n",
       " 84: 0.02178,\n",
       " 85: 0.01671,\n",
       " 86: 0.0126,\n",
       " 87: 0.00952,\n",
       " 88: 0.00714,\n",
       " 89: 0.00452,\n",
       " 90: 0.00343,\n",
       " 91: 0.00205,\n",
       " 92: 0.00137,\n",
       " 93: 0.00073,\n",
       " 94: 0.00051,\n",
       " 95: 0.00033,\n",
       " 96: 8e-05,\n",
       " 97: 6e-05,\n",
       " 98: 4e-05}"
      ]
     },
     "execution_count": 304,
     "metadata": {},
     "output_type": "execute_result"
    }
   ],
   "source": [
    "import random \n",
    "from collections import Counter\n",
    "\n",
    "def roll_attr():\n",
    "    rolls = [random.randint(1,6) for _ in range(4)]\n",
    "    return sum(sorted(rolls)[1:])\n",
    "\n",
    "def simulate_char():\n",
    "    stat = [0,0,0,0,0,0]\n",
    "    bad_char = True\n",
    "    while bad_char:\n",
    "        stat = [roll_attr() for _ in stat]\n",
    "        bad_char = (max(stat) <= 13) or (sum(stat) <= 60)\n",
    "    return stat\n",
    "\n",
    "n = 100000\n",
    "c = Counter([sum(simulate_char()) for _ in range(n)])\n",
    "probs_simu = {k:v/n for k,v in dict(c).items()}\n",
    "probs_simu"
   ]
  },
  {
   "cell_type": "markdown",
   "metadata": {},
   "source": [
    "# Iteration"
   ]
  },
  {
   "cell_type": "code",
   "execution_count": 259,
   "metadata": {
    "collapsed": true
   },
   "outputs": [],
   "source": [
    "import itertools as it \n",
    "d = (1,2,3,4,5,6)\n",
    "roll_counter = Counter((tuple(sorted(_)[1:]) for _ in it.product(d,d,d,d)))"
   ]
  },
  {
   "cell_type": "code",
   "execution_count": 260,
   "metadata": {
    "collapsed": true
   },
   "outputs": [],
   "source": [
    "roll_counter = Counter((sum(sorted(_)[1:]) for _ in it.product(d,d,d,d)))"
   ]
  },
  {
   "cell_type": "code",
   "execution_count": 261,
   "metadata": {},
   "outputs": [
    {
     "data": {
      "text/plain": [
       "Counter({3: 1,\n",
       "         4: 4,\n",
       "         5: 10,\n",
       "         6: 21,\n",
       "         7: 38,\n",
       "         8: 62,\n",
       "         9: 91,\n",
       "         10: 122,\n",
       "         11: 148,\n",
       "         12: 167,\n",
       "         13: 172,\n",
       "         14: 160,\n",
       "         15: 131,\n",
       "         16: 94,\n",
       "         17: 54,\n",
       "         18: 21})"
      ]
     },
     "execution_count": 261,
     "metadata": {},
     "output_type": "execute_result"
    }
   ],
   "source": [
    "roll_counter"
   ]
  },
  {
   "cell_type": "code",
   "execution_count": 262,
   "metadata": {},
   "outputs": [
    {
     "data": {
      "text/plain": [
       "9822736"
      ]
     },
     "execution_count": 262,
     "metadata": {},
     "output_type": "execute_result"
    }
   ],
   "source": [
    "import operator as op\n",
    "from functools import reduce\n",
    "\n",
    "k = roll_counter.items()\n",
    "\n",
    "def roll_gt(tups, n):\n",
    "    min([_[0] for _ in tups]) > 13\n",
    "    return sum([_[0] for _ in tups]) > 60\n",
    "\n",
    "def map_vals(tups):\n",
    "    rolled_value = sum([_[0] for _ in tups])\n",
    "    how_often = reduce(lambda x,y:x*y, [_[1] for _ in tups])\n",
    "    return Counter({rolled_value: how_often})\n",
    "\n",
    "sum(1 for comb in it.product(k,k,k,k,k,k) if roll_gt(comb, 60))"
   ]
  },
  {
   "cell_type": "markdown",
   "metadata": {},
   "source": [
    "It takes an increasing amount of time to add counter objects."
   ]
  },
  {
   "cell_type": "code",
   "execution_count": 263,
   "metadata": {
    "collapsed": true
   },
   "outputs": [],
   "source": [
    "mapped = (map_vals(_) for _ in it.product(k,k,k,k,k,k) if roll_gt(_, 60))"
   ]
  },
  {
   "cell_type": "code",
   "execution_count": 264,
   "metadata": {},
   "outputs": [
    {
     "name": "stdout",
     "output_type": "stream",
     "text": [
      "CPU times: user 5min 41s, sys: 865 ms, total: 5min 42s\n",
      "Wall time: 5min 43s\n"
     ]
    }
   ],
   "source": [
    "%%time\n",
    "folded = reduce(op.add, mapped)\n",
    "folded"
   ]
  },
  {
   "cell_type": "code",
   "execution_count": 265,
   "metadata": {
    "collapsed": true
   },
   "outputs": [],
   "source": [
    "import matplotlib.pylab as plt\n",
    "%matplotlib inline"
   ]
  },
  {
   "cell_type": "code",
   "execution_count": 266,
   "metadata": {},
   "outputs": [
    {
     "data": {
      "text/plain": [
       "1296"
      ]
     },
     "execution_count": 266,
     "metadata": {},
     "output_type": "execute_result"
    }
   ],
   "source": [
    "sum(roll_counter.values())"
   ]
  },
  {
   "cell_type": "code",
   "execution_count": 267,
   "metadata": {},
   "outputs": [
    {
     "data": {
      "text/plain": [
       "(4738381338321616896, 4574806877154126670)"
      ]
     },
     "execution_count": 267,
     "metadata": {},
     "output_type": "execute_result"
    }
   ],
   "source": [
    "probs_iter = {k:v/sum(folded.values()) for k,v in folded.items()}\n",
    "(1296)**6, sum(folded.values())"
   ]
  },
  {
   "cell_type": "code",
   "execution_count": 268,
   "metadata": {},
   "outputs": [
    {
     "data": {
      "text/plain": [
       "<matplotlib.text.Text at 0x116c63e80>"
      ]
     },
     "execution_count": 268,
     "metadata": {},
     "output_type": "execute_result"
    },
    {
     "data": {
      "image/png": "[encoded data removed]",
      "text/plain": [
       "<matplotlib.figure.Figure at 0x1144c8518>"
      ]
     },
     "metadata": {},
     "output_type": "display_data"
    }
   ],
   "source": [
    "plt.scatter(list(probs_iter.keys()), list(probs_iter.values()))\n",
    "plt.xlim(60, 110)\n",
    "plt.ylim(-0.005, 0.0705)\n",
    "plt.title(\"probabilities found via enumeration\")"
   ]
  },
  {
   "cell_type": "code",
   "execution_count": 269,
   "metadata": {},
   "outputs": [
    {
     "data": {
      "text/plain": [
       "<matplotlib.text.Text at 0x116cdb748>"
      ]
     },
     "execution_count": 269,
     "metadata": {},
     "output_type": "execute_result"
    },
    {
     "data": {
      "image/png": "[encoded data removed]",
      "text/plain": [
       "<matplotlib.figure.Figure at 0x117e42198>"
      ]
     },
     "metadata": {},
     "output_type": "display_data"
    }
   ],
   "source": [
    "plt.scatter(list(probs_simu.keys()), list(probs_simu.values()))\n",
    "plt.xlim(60, 110)\n",
    "plt.ylim(-0.005, 0.0705)\n",
    "plt.title(\"probabilities found via simulation\")"
   ]
  },
  {
   "cell_type": "markdown",
   "metadata": {},
   "source": [
    "We will use `probs_iter` and `probs_sim` to see how much the approximation causes a difference. \n",
    "\n",
    "### Decision Theory"
   ]
  },
  {
   "cell_type": "markdown",
   "metadata": {},
   "source": [
    "We need to calculate the probability that you'll get a higher score if you roll again. \n",
    "\n",
    "The goal is not to get a higher score in this one next roll, but a higher score in any roll that comes after. Intuitively this probability is defined via; \n",
    "\n",
    "$$ \n",
    "\\begin{split}\n",
    "\\mathbb{P}(\\text{higher than } s_0 \\text{at roll } r) = & \\mathbb{P}(s_1 > s_0 + r + 1) + \\\\\n",
    "  & \\mathbb{P}(s_2 > s_0 + r + 2)\\mathbb{P}(s_1 \\leq s_0 + r + 1) +\\\\\n",
    "  & \\mathbb{P}(s_3 > s_0 + r + 3)\\mathbb{P}(s_2 \\leq s_1 + r + 1)\\mathbb{P}(s_1 \\leq s_0 + r + 1) +\\\\\n",
    "  & \\mathbb{P}(s_4 > s_0 + r + 4)\\mathbb{P}(s_3 \\leq s_2 + r + 1)\\mathbb{P}(s_2 \\leq s_1 + r + 1)\\mathbb{P}(s_1 \\leq s_0 + r + 1) +\\\\\n",
    "  ...\n",
    "\\end{split}\n",
    "$$ \n"
   ]
  },
  {
   "cell_type": "code",
   "execution_count": 327,
   "metadata": {
    "collapsed": true
   },
   "outputs": [],
   "source": [
    "import numba as nb\n",
    "\n",
    "def p_higher_next(val, probs):\n",
    "    return sum([v for k,v in probs.items() if k >= val])\n",
    "\n",
    "\n",
    "def prob_higher(score, n_rolls, probs):\n",
    "    if score <= 60:\n",
    "        raise ValueError(\"score must be > 60\")\n",
    "    p = 0\n",
    "    for roll in range(n_rolls + 1, max(probs.keys())+1):\n",
    "        higher_p = p_higher_next(score + roll, probs) \n",
    "        fails_p = reduce(lambda a,b: a*b, [1] + [1-p_higher_next(score + _, probs) for _ in range(roll - n_rolls - 1)])\n",
    "        p += higher_p*fails_p\n",
    "    return p\n",
    "    \n",
    "\n",
    "@nb.jit\n",
    "def decisions_matrix(probs, choice=lambda x: x):\n",
    "    matrix = []\n",
    "    for score in reversed(list(probs.keys())):\n",
    "        row = []\n",
    "        for roll in range(1,25):\n",
    "            output = prob_higher(score, roll, probs)\n",
    "            output = choice(output)\n",
    "            row.append(output)\n",
    "        matrix.append(row)\n",
    "    return matrix\n",
    "\n",
    "def plot_decisions(probs, choice=lambda x: x, title=\"\"):\n",
    "    mat = decisions_matrix(probs, choice)\n",
    "    plt.imshow(mat, \n",
    "               interpolation='none', \n",
    "               extent=[1, len(mat_p[0]), min(probs.keys()), max(probs.keys())])\n",
    "    plt.title(title)\n",
    "    _ = plt.colorbar();"
   ]
  },
  {
   "cell_type": "code",
   "execution_count": 328,
   "metadata": {},
   "outputs": [
    {
     "data": {
      "image/png": "[encoded data removed]",
      "text/plain": [
       "<matplotlib.figure.Figure at 0x1182952e8>"
      ]
     },
     "metadata": {},
     "output_type": "display_data"
    }
   ],
   "source": [
    "plot_decisions(probs_iter, \n",
    "               title=\"probability of rolling higher\")"
   ]
  },
  {
   "cell_type": "code",
   "execution_count": 329,
   "metadata": {},
   "outputs": [
    {
     "data": {
      "image/png": "[encoded data removed]",
      "text/plain": [
       "<matplotlib.figure.Figure at 0x113ff4dd8>"
      ]
     },
     "metadata": {},
     "output_type": "display_data"
    }
   ],
   "source": [
    "plot_decisions(probs_iter, choice=round, \n",
    "               title=\"choice of rolling higher\")"
   ]
  },
  {
   "cell_type": "code",
   "execution_count": 330,
   "metadata": {},
   "outputs": [
    {
     "data": {
      "image/png": "[encoded data removed]",
      "text/plain": [
       "<matplotlib.figure.Figure at 0x116b5b160>"
      ]
     },
     "metadata": {},
     "output_type": "display_data"
    }
   ],
   "source": [
    "plot_decisions(probs_iter, choice=lambda x: round(x+0.1), \n",
    "               title=\"choice of rolling higher, risk averse\")"
   ]
  },
  {
   "cell_type": "code",
   "execution_count": 334,
   "metadata": {},
   "outputs": [
    {
     "data": {
      "image/png": "[encoded data removed]",
      "text/plain": [
       "<matplotlib.figure.Figure at 0x117245128>"
      ]
     },
     "metadata": {},
     "output_type": "display_data"
    }
   ],
   "source": [
    "plot_decisions(probs_iter, choice=lambda x: round(x+0.3), \n",
    "               title=\"choice of rolling higher, risk averse+\")"
   ]
  },
  {
   "cell_type": "markdown",
   "metadata": {},
   "source": [
    "## Making the model too simple\n",
    "\n",
    "An alternative way of thinking about it is to say that we merely want to optimise this: \n",
    "\n",
    "$$ \\text{argmax } v(a, s, t)= \n",
    "\\begin{cases}\n",
    "    s - t,& \\text{if } a\\\\\\\\\n",
    "    \\mathbb{E}(s) - t - 1 & \\text{if not } a\n",
    "\\end{cases}\n",
    "$$"
   ]
  },
  {
   "cell_type": "code",
   "execution_count": 325,
   "metadata": {},
   "outputs": [
    {
     "data": {
      "text/plain": [
       "74.03527564970476"
      ]
     },
     "execution_count": 325,
     "metadata": {},
     "output_type": "execute_result"
    }
   ],
   "source": [
    "expected_value = sum([k*v for k,v in probs_iter.items()])\n",
    "expected_value"
   ]
  },
  {
   "cell_type": "markdown",
   "metadata": {},
   "source": [
    "You should feel that this viewpoint is a bit naive as suddenly the system \n",
    "becomes very linear. To show that this tactic is different, albeit somewhat similar, let's plot the two decision regions."
   ]
  },
  {
   "cell_type": "code",
   "execution_count": 335,
   "metadata": {},
   "outputs": [
    {
     "data": {
      "text/plain": [
       "[<matplotlib.lines.Line2D at 0x1183d40f0>]"
      ]
     },
     "execution_count": 335,
     "metadata": {},
     "output_type": "execute_result"
    },
    {
     "data": {
      "image/png": "[encoded data removed]",
      "text/plain": [
       "<matplotlib.figure.Figure at 0x1183d49e8>"
      ]
     },
     "metadata": {},
     "output_type": "display_data"
    }
   ],
   "source": [
    "plot_decisions(probs_iter, choice=round, \n",
    "               title=\"choice of rolling higher\")\n",
    "plt.plot([1, 13], [expected_value, expected_value-13], color=\"red\")"
   ]
  },
  {
   "cell_type": "markdown",
   "metadata": {},
   "source": [
    "# Conclusions\n",
    "\n",
    "This \"icewind dale problem\" is very similar to the \"secretary problem\" or the \"dating problem\". All these problem focus on finding the right moment to stop and reap the benefits. The problems differ on a few things which can make the problem harder: \n",
    "\n",
    "- in our problem we are always able to reroll, you could imagine a situation where there is a chance of being able to reroll \n",
    "- we knew the stochastic process that generates scores beforehand, you could imagine that if we do not know how the attribute scores are generated that the problem becomes a whole lot harder too \n",
    "- \n",
    "\n",
    "Then looking back at how I solved this problem I'd like to mention a few observations too. \n",
    "\n",
    "- This is a rare case where you are able to enumerate the probabilities instead of simulating them. I find that you should celebrate these moments by doing the actual work to get the actual probabilities out.  It requires more mental capacity though, initially working with simulations may also just be fine if you're just exploring. \n",
    "- I took the proper math path and I showed that the $\\text{argmax } \\mathbb{E}(s)$ expected value heuristic is flawed, albeit not too far off. If you only want to spend 5 minutes on the problem I guess simulation simulation and the expected value heuristic heuristic should get you 80% of the way for 5% of the time though.\n",
    "-  You don't always need numeric libraries like `numpy`. What makes python great for these sorts of things is that I did not need to make custom objects because I was able to make use of the great little libraries in the standardlib. Tools like `functools.reduce`, `collections.Counter` and `itertools` really make solving these problems fun."
   ]
  }
 ],
 "metadata": {
  "kernelspec": {
   "display_name": "Python 3",
   "language": "python",
   "name": "python3"
  },
  "language_info": {
   "codemirror_mode": {
    "name": "ipython",
    "version": 3
   },
   "file_extension": ".py",
   "mimetype": "text/x-python",
   "name": "python",
   "nbconvert_exporter": "python",
   "pygments_lexer": "ipython3",
   "version": "3.6.1"
  }
 },
 "nbformat": 4,
 "nbformat_minor": 2
}
